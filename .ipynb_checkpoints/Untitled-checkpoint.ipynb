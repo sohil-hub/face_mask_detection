{
 "cells": [
  {
   "cell_type": "code",
   "execution_count": 1,
   "id": "63b20066",
   "metadata": {},
   "outputs": [
    {
     "name": "stdout",
     "output_type": "stream",
     "text": [
      "Init Plugin\n",
      "Init Graph Optimizer\n",
      "Init Kernel\n",
      "Tensor Flow Version: 2.5.0\n",
      "Keras Version: 2.5.0\n",
      "\n",
      "Python 3.9.7 | packaged by conda-forge | (default, Sep 29 2021, 19:24:02) \n",
      "[Clang 11.1.0 ]\n",
      "Pandas 1.3.3\n",
      "Scikit-Learn 1.0\n",
      "GPU is available\n"
     ]
    }
   ],
   "source": [
    "\n",
    "# What version of Python do you have?\n",
    "import sys\n",
    "\n",
    "import tensorflow.keras\n",
    "import pandas as pd\n",
    "import sklearn as sk\n",
    "import tensorflow as tf\n",
    "\n",
    "print(f\"Tensor Flow Version: {tf.__version__}\")\n",
    "print(f\"Keras Version: {tensorflow.keras.__version__}\")\n",
    "print()\n",
    "print(f\"Python {sys.version}\")\n",
    "print(f\"Pandas {pd.__version__}\")\n",
    "print(f\"Scikit-Learn {sk.__version__}\")\n",
    "gpu = len(tf.config.list_physical_devices('GPU'))>0\n",
    "print(\"GPU is\", \"available\" if gpu else \"NOT AVAILABLE\")"
   ]
  },
  {
   "cell_type": "code",
   "execution_count": 2,
   "id": "5d977bed",
   "metadata": {},
   "outputs": [],
   "source": [
    "physical_devices = tf.config.list_physical_devices(\"GPU\")\n",
    "tf.config.experimental.set_memory_growth(physical_devices[0], True)"
   ]
  },
  {
   "cell_type": "code",
   "execution_count": 3,
   "id": "bf78a65f",
   "metadata": {},
   "outputs": [
    {
     "name": "stdout",
     "output_type": "stream",
     "text": [
      "Requirement already satisfied: split-folders in /opt/homebrew/Caskroom/miniforge/base/envs/tf2/lib/python3.9/site-packages (0.4.3)\r\n"
     ]
    }
   ],
   "source": [
    "!pip install split-folders\n",
    "import splitfolders"
   ]
  },
  {
   "cell_type": "code",
   "execution_count": 4,
   "id": "677482df",
   "metadata": {},
   "outputs": [
    {
     "name": "stderr",
     "output_type": "stream",
     "text": [
      "Copying files: 3833 files [00:01, 3227.64 files/s]\n"
     ]
    }
   ],
   "source": [
    "splitfolders.ratio('dataset', output=\"output\", seed=1337, ratio=(.8, 0.1,0.1)) \n"
   ]
  },
  {
   "cell_type": "code",
   "execution_count": 5,
   "id": "11c734f3",
   "metadata": {},
   "outputs": [
    {
     "name": "stdout",
     "output_type": "stream",
     "text": [
      "Found 3066 images belonging to 2 classes.\n"
     ]
    }
   ],
   "source": [
    "from tensorflow.keras.preprocessing.image import ImageDataGenerator\n",
    "\n",
    "train_datagen = ImageDataGenerator(\n",
    "                                    rotation_range=20,\n",
    "                                    zoom_range=0.15,\n",
    "                                    width_shift_range=0.2,\n",
    "                                    height_shift_range=0.2,\n",
    "                                    shear_range=0.15,\n",
    "                                    horizontal_flip=True,\n",
    "                                    fill_mode=\"nearest\",\n",
    "                                    vertical_flip=True)\n",
    "training_set = train_datagen.flow_from_directory('output/train',\n",
    "                                                 target_size = (224, 224),\n",
    "                                                 batch_size = 32,\n",
    "                                                 class_mode = 'binary')"
   ]
  },
  {
   "cell_type": "code",
   "execution_count": 6,
   "id": "f2ff7231",
   "metadata": {},
   "outputs": [
    {
     "name": "stdout",
     "output_type": "stream",
     "text": [
      "Found 382 images belonging to 2 classes.\n"
     ]
    }
   ],
   "source": [
    "val_datagen = ImageDataGenerator(\n",
    "                                    rotation_range=20,\n",
    "                                    zoom_range=0.15,\n",
    "                                    width_shift_range=0.2,\n",
    "                                    height_shift_range=0.2,\n",
    "                                    shear_range=0.15,\n",
    "                                    horizontal_flip=True,\n",
    "                                    fill_mode=\"nearest\",\n",
    "                                    vertical_flip=True)\n",
    "val_set = train_datagen.flow_from_directory('output/val',\n",
    "                                                 target_size = (224, 224),\n",
    "                                                 batch_size = 32,\n",
    "                                                 class_mode = 'binary')"
   ]
  },
  {
   "cell_type": "code",
   "execution_count": 12,
   "id": "44124cd1",
   "metadata": {},
   "outputs": [],
   "source": [
    "from tensorflow.keras.applications import MobileNetV2\n",
    "baseModel = MobileNetV2(weights=\"imagenet\", include_top=False, input_shape=(224, 224, 3))"
   ]
  },
  {
   "cell_type": "code",
   "execution_count": 13,
   "id": "666e30fb",
   "metadata": {},
   "outputs": [],
   "source": [
    "from tensorflow.keras.layers import AveragePooling2D\n",
    "from tensorflow.keras.layers import Dropout\n",
    "from tensorflow.keras.layers import Flatten\n",
    "from tensorflow.keras.layers import Dense\n",
    "from tensorflow.keras.layers import Input\n",
    "from tensorflow.keras.models import Model\n",
    "from tensorflow.keras.optimizers import Adam\n",
    "\n",
    "headModel = baseModel.output\n",
    "headModel = AveragePooling2D(pool_size=(7, 7))(headModel)\n",
    "headModel = Flatten(name=\"flatten\")(headModel)\n",
    "headModel = Dense(128, activation=\"relu\")(headModel)\n",
    "headModel = Dropout(0.5)(headModel)\n",
    "headModel = Dense(1, activation=\"sigmoid\")(headModel)"
   ]
  },
  {
   "cell_type": "code",
   "execution_count": 14,
   "id": "dd9654f1",
   "metadata": {},
   "outputs": [],
   "source": [
    "model = Model(inputs=baseModel.input, outputs=headModel)\n"
   ]
  },
  {
   "cell_type": "code",
   "execution_count": 15,
   "id": "f0f40d1b",
   "metadata": {},
   "outputs": [],
   "source": [
    "for layer in baseModel.layers:\n",
    "    layer.trainable = False"
   ]
  },
  {
   "cell_type": "code",
   "execution_count": 16,
   "id": "cd0f6489",
   "metadata": {},
   "outputs": [],
   "source": [
    "opt = Adam(learning_rate=1e-4, decay=1e-4 / 20)\n",
    "model.compile(loss='binary_crossentropy',\n",
    "              optimizer=tf.keras.optimizers.RMSprop(learning_rate=1e-4),\n",
    "              metrics=['accuracy'])"
   ]
  },
  {
   "cell_type": "code",
   "execution_count": null,
   "id": "3f8fdc0f",
   "metadata": {},
   "outputs": [],
   "source": []
  },
  {
   "cell_type": "code",
   "execution_count": 17,
   "id": "9603904a",
   "metadata": {},
   "outputs": [
    {
     "name": "stderr",
     "output_type": "stream",
     "text": [
      "2021-10-08 20:08:21.001913: I tensorflow/compiler/mlir/mlir_graph_optimization_pass.cc:176] None of the MLIR Optimization Passes are enabled (registered 2)\n",
      "2021-10-08 20:08:21.002088: W tensorflow/core/platform/profile_utils/cpu_utils.cc:128] Failed to get CPU frequency: 0 Hz\n"
     ]
    },
    {
     "name": "stdout",
     "output_type": "stream",
     "text": [
      "Epoch 1/20\n"
     ]
    },
    {
     "name": "stderr",
     "output_type": "stream",
     "text": [
      "2021-10-08 20:08:21.665511: I tensorflow/core/grappler/optimizers/custom_graph_optimizer_registry.cc:112] Plugin optimizer for device_type GPU is enabled.\n"
     ]
    },
    {
     "name": "stdout",
     "output_type": "stream",
     "text": [
      "61/95 [==================>...........] - ETA: 7s - loss: 0.7121 - accuracy: 0.6280"
     ]
    },
    {
     "name": "stderr",
     "output_type": "stream",
     "text": [
      "/opt/homebrew/Caskroom/miniforge/base/envs/tf2/lib/python3.9/site-packages/PIL/Image.py:973: UserWarning: Palette images with Transparency expressed in bytes should be converted to RGBA images\n",
      "  warnings.warn(\n"
     ]
    },
    {
     "name": "stdout",
     "output_type": "stream",
     "text": [
      "96/95 [==============================] - ETA: 0s - loss: 0.6541 - accuracy: 0.6637"
     ]
    },
    {
     "name": "stderr",
     "output_type": "stream",
     "text": [
      "2021-10-08 20:08:42.296483: I tensorflow/core/grappler/optimizers/custom_graph_optimizer_registry.cc:112] Plugin optimizer for device_type GPU is enabled.\n"
     ]
    },
    {
     "name": "stdout",
     "output_type": "stream",
     "text": [
      "95/95 [==============================] - 24s 244ms/step - loss: 0.6541 - accuracy: 0.6637 - val_loss: 0.5039 - val_accuracy: 0.7539\n",
      "Epoch 2/20\n",
      "95/95 [==============================] - 24s 251ms/step - loss: 0.4942 - accuracy: 0.7606 - val_loss: 0.4189 - val_accuracy: 0.8141\n",
      "Epoch 3/20\n",
      "95/95 [==============================] - 23s 243ms/step - loss: 0.4440 - accuracy: 0.8014 - val_loss: 0.4172 - val_accuracy: 0.8089\n",
      "Epoch 4/20\n",
      "95/95 [==============================] - 25s 258ms/step - loss: 0.4047 - accuracy: 0.8242 - val_loss: 0.3764 - val_accuracy: 0.8455\n",
      "Epoch 5/20\n",
      "95/95 [==============================] - 26s 271ms/step - loss: 0.3812 - accuracy: 0.8376 - val_loss: 0.3565 - val_accuracy: 0.8560\n",
      "Epoch 6/20\n",
      "95/95 [==============================] - 27s 280ms/step - loss: 0.3661 - accuracy: 0.8565 - val_loss: 0.3773 - val_accuracy: 0.8403\n",
      "Epoch 7/20\n",
      "95/95 [==============================] - 28s 289ms/step - loss: 0.3591 - accuracy: 0.8470 - val_loss: 0.3305 - val_accuracy: 0.8613\n",
      "Epoch 8/20\n",
      "95/95 [==============================] - 31s 318ms/step - loss: 0.3497 - accuracy: 0.8467 - val_loss: 0.3298 - val_accuracy: 0.8534\n",
      "Epoch 9/20\n",
      "95/95 [==============================] - 28s 293ms/step - loss: 0.3329 - accuracy: 0.8598 - val_loss: 0.3072 - val_accuracy: 0.8613\n",
      "Epoch 10/20\n",
      "95/95 [==============================] - 28s 296ms/step - loss: 0.3202 - accuracy: 0.8715 - val_loss: 0.3190 - val_accuracy: 0.8560\n",
      "Epoch 11/20\n",
      "95/95 [==============================] - 29s 299ms/step - loss: 0.3127 - accuracy: 0.8721 - val_loss: 0.3025 - val_accuracy: 0.8665\n",
      "Epoch 12/20\n",
      "95/95 [==============================] - 29s 302ms/step - loss: 0.3051 - accuracy: 0.8757 - val_loss: 0.3249 - val_accuracy: 0.8691\n",
      "Epoch 13/20\n",
      "95/95 [==============================] - 30s 316ms/step - loss: 0.2982 - accuracy: 0.8780 - val_loss: 0.3131 - val_accuracy: 0.8508\n",
      "Epoch 14/20\n",
      "95/95 [==============================] - 34s 352ms/step - loss: 0.3064 - accuracy: 0.8721 - val_loss: 0.2959 - val_accuracy: 0.8796\n",
      "Epoch 15/20\n",
      "95/95 [==============================] - 36s 377ms/step - loss: 0.3000 - accuracy: 0.8790 - val_loss: 0.2716 - val_accuracy: 0.8901\n",
      "Epoch 16/20\n",
      "95/95 [==============================] - 983s 10s/step - loss: 0.2905 - accuracy: 0.8800 - val_loss: 0.2972 - val_accuracy: 0.8717\n",
      "Epoch 17/20\n",
      "95/95 [==============================] - 343s 4s/step - loss: 0.2798 - accuracy: 0.8907 - val_loss: 0.3144 - val_accuracy: 0.8639\n",
      "Epoch 18/20\n",
      "95/95 [==============================] - 24s 244ms/step - loss: 0.2884 - accuracy: 0.8803 - val_loss: 0.2489 - val_accuracy: 0.9084\n",
      "Epoch 19/20\n",
      "95/95 [==============================] - 23s 241ms/step - loss: 0.2830 - accuracy: 0.8875 - val_loss: 0.2920 - val_accuracy: 0.8586\n",
      "Epoch 20/20\n",
      "95/95 [==============================] - 23s 241ms/step - loss: 0.2795 - accuracy: 0.8875 - val_loss: 0.2608 - val_accuracy: 0.9162\n"
     ]
    }
   ],
   "source": [
    "history = model.fit(\n",
    "      training_set,\n",
    "      steps_per_epoch=3066/32,  # 2000 images = batch_size * steps\n",
    "      epochs=20,\n",
    "      validation_data=val_set,\n",
    "      validation_steps=382/32\n",
    ")"
   ]
  },
  {
   "cell_type": "code",
   "execution_count": 18,
   "id": "636972f7",
   "metadata": {},
   "outputs": [
    {
     "data": {
      "image/png": "[encoded data removed]",
      "text/plain": [
       "<Figure size 432x288 with 1 Axes>"
      ]
     },
     "metadata": {
      "needs_background": "light"
     },
     "output_type": "display_data"
    },
    {
     "data": {
      "image/png": "[encoded data removed]",
      "text/plain": [
       "<Figure size 432x288 with 1 Axes>"
      ]
     },
     "metadata": {
      "needs_background": "light"
     },
     "output_type": "display_data"
    }
   ],
   "source": [
    "import matplotlib.pyplot as plt\n",
    "acc = history.history['accuracy']\n",
    "val_acc = history.history['val_accuracy']\n",
    "loss = history.history['loss']\n",
    "val_loss = history.history['val_loss']\n",
    "\n",
    "epochs = range(len(acc))\n",
    "\n",
    "plt.plot(epochs, acc, 'bo', label='Training accuracy')\n",
    "plt.plot(epochs, val_acc, 'b', label='Validation accuracy')\n",
    "plt.title('Training and validation accuracy')\n",
    "\n",
    "plt.figure()\n",
    "\n",
    "plt.plot(epochs, loss, 'bo', label='Training Loss')\n",
    "plt.plot(epochs, val_loss, 'b', label='Validation Loss')\n",
    "plt.title('Training and validation loss')\n",
    "plt.legend()\n",
    "\n",
    "plt.show()"
   ]
  },
  {
   "cell_type": "code",
   "execution_count": 19,
   "id": "7947e761",
   "metadata": {},
   "outputs": [
    {
     "name": "stderr",
     "output_type": "stream",
     "text": [
      "/opt/homebrew/Caskroom/miniforge/base/envs/tf2/lib/python3.9/site-packages/tensorflow/python/keras/utils/generic_utils.py:494: CustomMaskWarning: Custom mask layers require a config and must override get_config. When loading, the custom mask layer must be passed to the custom_objects argument.\n",
      "  warnings.warn('Custom mask layers require a config and must override '\n"
     ]
    }
   ],
   "source": [
    "model.save(\"mask_detector_2.model\", save_format=\"h5\")\n"
   ]
  },
  {
   "cell_type": "code",
   "execution_count": null,
   "id": "b5f0960f",
   "metadata": {},
   "outputs": [],
   "source": []
  }
 ],
 "metadata": {
  "kernelspec": {
   "display_name": "Python [conda env:tf2] *",
   "language": "python",
   "name": "conda-env-tf2-py"
  },
  "language_info": {
   "codemirror_mode": {
    "name": "ipython",
    "version": 3
   },
   "file_extension": ".py",
   "mimetype": "text/x-python",
   "name": "python",
   "nbconvert_exporter": "python",
   "pygments_lexer": "ipython3",
   "version": "3.9.7"
  }
 },
 "nbformat": 4,
 "nbformat_minor": 5
}
